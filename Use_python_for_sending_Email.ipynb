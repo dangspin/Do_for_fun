{
 "cells": [
  {
   "cell_type": "markdown",
   "metadata": {},
   "source": [
    "### 1. A basic template for sending Email\n",
    "\n",
    "This is from the website: https://www.geeksforgeeks.org/send-mail-gmail-account-using-python/"
   ]
  },
  {
   "cell_type": "code",
   "execution_count": 4,
   "metadata": {},
   "outputs": [
    {
     "data": {
      "text/plain": [
       "(221, b'2.0.0 closing connection y84sm4548972pff.81 - gsmtp')"
      ]
     },
     "execution_count": 4,
     "metadata": {},
     "output_type": "execute_result"
    }
   ],
   "source": [
    "## import smtp module\n",
    "import smtplib\n",
    "\n",
    "## creates SMTP connection\n",
    "s = smtplib.SMTP('smtp.gmail.com', 587)\n",
    "\n",
    "## start TLS for security\n",
    "s.starttls()\n",
    "\n",
    "## Login my gmail:\n",
    "s.login(\"dangxiaoqian@gmail.com\", \"511168020601dxq\")\n",
    "\n",
    "## Simple message\n",
    "message = \"Hello Charlie, this is a test message\"\n",
    "\n",
    "## Sending the message\n",
    "s.sendmail(\"dangxiaoqian@gmail.com\", \"dangxiaoqian@gmail.com\", message)\n",
    "\n",
    "s.quit()"
   ]
  },
  {
   "cell_type": "markdown",
   "metadata": {},
   "source": [
    "### 2. A general email sending template"
   ]
  },
  {
   "cell_type": "code",
   "execution_count": null,
   "metadata": {
    "collapsed": true
   },
   "outputs": [],
   "source": [
    "## First, it is a genral email generating class\n",
    "\n"
   ]
  },
  {
   "cell_type": "code",
   "execution_count": null,
   "metadata": {
    "collapsed": true
   },
   "outputs": [],
   "source": []
  },
  {
   "cell_type": "code",
   "execution_count": null,
   "metadata": {
    "collapsed": true
   },
   "outputs": [],
   "source": []
  },
  {
   "cell_type": "code",
   "execution_count": null,
   "metadata": {
    "collapsed": true
   },
   "outputs": [],
   "source": []
  },
  {
   "cell_type": "code",
   "execution_count": null,
   "metadata": {
    "collapsed": true
   },
   "outputs": [],
   "source": []
  }
 ],
 "metadata": {
  "kernelspec": {
   "display_name": "Python 3",
   "language": "python",
   "name": "python3"
  },
  "language_info": {
   "codemirror_mode": {
    "name": "ipython",
    "version": 3
   },
   "file_extension": ".py",
   "mimetype": "text/x-python",
   "name": "python",
   "nbconvert_exporter": "python",
   "pygments_lexer": "ipython3",
   "version": "3.6.3"
  }
 },
 "nbformat": 4,
 "nbformat_minor": 2
}
