{
 "cells": [
  {
   "cell_type": "markdown",
   "metadata": {},
   "source": [
    "### 1. A basic template for sending Email\n",
    "\n",
    "This is from the website: https://www.geeksforgeeks.org/send-mail-gmail-account-using-python/"
   ]
  },
  {
   "cell_type": "code",
   "execution_count": 66,
   "metadata": {},
   "outputs": [
    {
     "ename": "AttributeError",
     "evalue": "'str' object has no attribute 'as_string'",
     "output_type": "error",
     "traceback": [
      "\u001b[0;31m---------------------------------------------------------------------------\u001b[0m",
      "\u001b[0;31mAttributeError\u001b[0m                            Traceback (most recent call last)",
      "\u001b[0;32m<ipython-input-66-eb92dd643663>\u001b[0m in \u001b[0;36m<module>\u001b[0;34m()\u001b[0m\n\u001b[1;32m     15\u001b[0m \u001b[0;34m\u001b[0m\u001b[0m\n\u001b[1;32m     16\u001b[0m \u001b[0;31m## Sending the message\u001b[0m\u001b[0;34m\u001b[0m\u001b[0;34m\u001b[0m\u001b[0m\n\u001b[0;32m---> 17\u001b[0;31m \u001b[0ms\u001b[0m\u001b[0;34m.\u001b[0m\u001b[0msendmail\u001b[0m\u001b[0;34m(\u001b[0m\u001b[0;34m\"dangxiaoqian@gmail.com\"\u001b[0m\u001b[0;34m,\u001b[0m \u001b[0;34m\"dangxiaoqian@gmail.com\"\u001b[0m\u001b[0;34m,\u001b[0m \u001b[0mmsg\u001b[0m\u001b[0;34m.\u001b[0m\u001b[0mas_string\u001b[0m\u001b[0;34m(\u001b[0m\u001b[0;34m)\u001b[0m\u001b[0;34m)\u001b[0m\u001b[0;34m\u001b[0m\u001b[0m\n\u001b[0m\u001b[1;32m     18\u001b[0m \u001b[0;34m\u001b[0m\u001b[0m\n\u001b[1;32m     19\u001b[0m \u001b[0ms\u001b[0m\u001b[0;34m.\u001b[0m\u001b[0mquit\u001b[0m\u001b[0;34m(\u001b[0m\u001b[0;34m)\u001b[0m\u001b[0;34m\u001b[0m\u001b[0m\n",
      "\u001b[0;31mAttributeError\u001b[0m: 'str' object has no attribute 'as_string'"
     ]
    }
   ],
   "source": [
    "## import smtp module\n",
    "import smtplib\n",
    "\n",
    "## creates SMTP connection\n",
    "s = smtplib.SMTP('smtp.gmail.com', 587)\n",
    "\n",
    "## start TLS for security\n",
    "s.starttls()\n",
    "\n",
    "## Login my gmail:\n",
    "s.login(\"dangxiaoqian@gmail.com\", \"511168020601dxq\")\n",
    "\n",
    "## Simple message\n",
    "message = \"Hello Charlie, this is a test message\"\n",
    "\n",
    "## Sending the message\n",
    "s.sendmail(\"dangxiaoqian@gmail.com\", \"dangxiaoqian@gmail.com\", msg)\n",
    "\n",
    "s.quit()"
   ]
  },
  {
   "cell_type": "markdown",
   "metadata": {},
   "source": [
    "### 2. A general email sending template"
   ]
  },
  {
   "cell_type": "code",
   "execution_count": 58,
   "metadata": {},
   "outputs": [],
   "source": [
    "## First, it is a genral email generating class\n",
    "\n",
    "class Text:\n",
    "    \n",
    "    def __init__(self, From, To, Text=None, Attached=None, hasSignature = True):\n",
    "        ## define the variables\n",
    "        if (From == None or not isinstance(From, str)):\n",
    "            raise ValueError(\"Please input the correct sender information\")\n",
    "        self.sender = From\n",
    "        \n",
    "        if (To == None or not isinstance(To, str)):\n",
    "            raise ValueError(\"Please input the correct receiver information\")\n",
    "        self.receiver = To\n",
    "        \n",
    "        ## message information\n",
    "        self.text = Text\n",
    "        \n",
    "        ## Attached file\n",
    "        self.attahced = Attached\n",
    "        \n",
    "        ## signature\n",
    "        if hasSignature == True:\n",
    "            self.signature = \"Charlie Dang, Dr. \\nPhone: 13801186674\"\n",
    "        else:\n",
    "            self.signature = \"\"\n",
    "        \n",
    "    def generateText(self, Title=None):\n",
    "        \"\"\"\n",
    "        This is the function to generate the text message\n",
    "        \"\"\"\n",
    "        message = \"From: %s \\nTo: %s \\n \\n%s\\n\\n\\n%s\" %(self.sender, self.receiver, self.text, self.signature)\n",
    "\n",
    "        return message\n",
    "    \n",
    "    def _setSignature(self, yourSig):\n",
    "        self.signature = yourSig\n",
    "    "
   ]
  },
  {
   "cell_type": "code",
   "execution_count": 62,
   "metadata": {},
   "outputs": [],
   "source": [
    "text = Text(\"dangxiaoqian@gmail.com\",\"a1d@gamil.com\", )"
   ]
  },
  {
   "cell_type": "code",
   "execution_count": 63,
   "metadata": {},
   "outputs": [],
   "source": [
    "msg = text.generateText()"
   ]
  },
  {
   "cell_type": "code",
   "execution_count": 64,
   "metadata": {},
   "outputs": [
    {
     "name": "stdout",
     "output_type": "stream",
     "text": [
      "From: dangxiaoqian@gmail.com \n",
      "To: a1d@gamil.com \n",
      " \n",
      "Hello world! \n",
      "This is Charlie\n",
      "\n",
      "\n",
      "Charlie Dang, Dr. \n",
      "Phone: 13801186674\n"
     ]
    }
   ],
   "source": [
    "print (msg)"
   ]
  },
  {
   "cell_type": "markdown",
   "metadata": {},
   "source": [
    "#### Using a more general package"
   ]
  },
  {
   "cell_type": "code",
   "execution_count": 83,
   "metadata": {},
   "outputs": [
    {
     "data": {
      "text/plain": [
       "(221, b'2.0.0 closing connection 125sm60867606pff.19 - gsmtp')"
      ]
     },
     "execution_count": 83,
     "metadata": {},
     "output_type": "execute_result"
    }
   ],
   "source": [
    "import smtplib\n",
    "\n",
    "from email.mime.multipart import MIMEMultipart\n",
    "from email.mime.base import MIMEBase\n",
    "from email.mime.text import MIMEText\n",
    "from email import encoders\n",
    "\n",
    "\n",
    "Sender = \"dangxiaoqian@gmail.com\"\n",
    "receiver = \"dangxiaoqian@gmail.com\"\n",
    "\n",
    "msg = MIMEMultipart()\n",
    "\n",
    "msg['From'] = Sender\n",
    "msg['To'] = receiver\n",
    "msg['Subject'] = \"A message\"\n",
    "\n",
    "message = string\n",
    "\n",
    "msg.attach(MIMEText(message, 'plain'))\n",
    "\n",
    "server = smtplib.SMTP('smtp.gmail.com', 587)\n",
    "server.starttls()\n",
    "server.login(Sender, \"511168020601dxq\")\n",
    "\n",
    "server.sendmail(Sender, receiver, msg.as_string())\n",
    "server.quit()\n"
   ]
  },
  {
   "cell_type": "code",
   "execution_count": 70,
   "metadata": {
    "collapsed": true
   },
   "outputs": [],
   "source": []
  },
  {
   "cell_type": "code",
   "execution_count": null,
   "metadata": {
    "collapsed": true
   },
   "outputs": [],
   "source": []
  },
  {
   "cell_type": "code",
   "execution_count": 74,
   "metadata": {},
   "outputs": [],
   "source": [
    "import os\n"
   ]
  },
  {
   "cell_type": "code",
   "execution_count": 76,
   "metadata": {},
   "outputs": [
    {
     "data": {
      "text/plain": [
       "'/Users/charliedang/Documents/Do_for_fun'"
      ]
     },
     "execution_count": 76,
     "metadata": {},
     "output_type": "execute_result"
    }
   ],
   "source": [
    "os.getcwd()"
   ]
  },
  {
   "cell_type": "code",
   "execution_count": 78,
   "metadata": {},
   "outputs": [
    {
     "data": {
      "text/plain": [
       "'/Users/charliedang/Documents/Do_for_fun/test.txt'"
      ]
     },
     "execution_count": 78,
     "metadata": {},
     "output_type": "execute_result"
    }
   ],
   "source": [
    "name = os.getcwd() + \"/test.txt\"\n",
    "\n",
    "name"
   ]
  },
  {
   "cell_type": "code",
   "execution_count": 79,
   "metadata": {
    "collapsed": true
   },
   "outputs": [],
   "source": [
    "with open(name,'r') as file:\n",
    "    lines = file.readlines()"
   ]
  },
  {
   "cell_type": "code",
   "execution_count": 81,
   "metadata": {},
   "outputs": [],
   "source": [
    "string = \"\".join(lines)"
   ]
  },
  {
   "cell_type": "code",
   "execution_count": 82,
   "metadata": {},
   "outputs": [
    {
     "name": "stdout",
     "output_type": "stream",
     "text": [
      "This is a test file.\n",
      "\n",
      "I am Charlie, Could you tell me who you are?\n",
      "If you cannot, no worries\n",
      "\n",
      "Please send your introduction to this address:\n",
      "dangxiaoqian@gmail.com\n",
      "\n"
     ]
    }
   ],
   "source": [
    "print(string)"
   ]
  },
  {
   "cell_type": "code",
   "execution_count": 84,
   "metadata": {
    "collapsed": true
   },
   "outputs": [],
   "source": [
    "import sys"
   ]
  },
  {
   "cell_type": "code",
   "execution_count": null,
   "metadata": {
    "collapsed": true
   },
   "outputs": [],
   "source": []
  },
  {
   "cell_type": "code",
   "execution_count": null,
   "metadata": {
    "collapsed": true
   },
   "outputs": [],
   "source": []
  },
  {
   "cell_type": "code",
   "execution_count": null,
   "metadata": {
    "collapsed": true
   },
   "outputs": [],
   "source": []
  },
  {
   "cell_type": "code",
   "execution_count": null,
   "metadata": {
    "collapsed": true
   },
   "outputs": [],
   "source": []
  },
  {
   "cell_type": "code",
   "execution_count": null,
   "metadata": {
    "collapsed": true
   },
   "outputs": [],
   "source": []
  },
  {
   "cell_type": "code",
   "execution_count": null,
   "metadata": {
    "collapsed": true
   },
   "outputs": [],
   "source": []
  },
  {
   "cell_type": "code",
   "execution_count": null,
   "metadata": {
    "collapsed": true
   },
   "outputs": [],
   "source": []
  }
 ],
 "metadata": {
  "kernelspec": {
   "display_name": "Python 3",
   "language": "python",
   "name": "python3"
  },
  "language_info": {
   "codemirror_mode": {
    "name": "ipython",
    "version": 3
   },
   "file_extension": ".py",
   "mimetype": "text/x-python",
   "name": "python",
   "nbconvert_exporter": "python",
   "pygments_lexer": "ipython3",
   "version": "3.6.3"
  }
 },
 "nbformat": 4,
 "nbformat_minor": 2
}
