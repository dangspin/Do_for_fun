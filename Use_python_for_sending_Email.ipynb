{
 "cells": [
  {
   "cell_type": "markdown",
   "metadata": {},
   "source": [
    "### 1. A basic template for sending Email\n",
    "\n",
    "This is from the website: https://www.geeksforgeeks.org/send-mail-gmail-account-using-python/"
   ]
  },
  {
   "cell_type": "code",
   "execution_count": 65,
   "metadata": {},
   "outputs": [
    {
     "data": {
      "text/plain": [
       "(221, b'2.0.0 closing connection b84sm63573678pfj.11 - gsmtp')"
      ]
     },
     "execution_count": 65,
     "metadata": {},
     "output_type": "execute_result"
    }
   ],
   "source": [
    "## import smtp module\n",
    "import smtplib\n",
    "\n",
    "## creates SMTP connection\n",
    "s = smtplib.SMTP('smtp.gmail.com', 587)\n",
    "\n",
    "## start TLS for security\n",
    "s.starttls()\n",
    "\n",
    "## Login my gmail:\n",
    "s.login(\"dangxiaoqian@gmail.com\", \"511168020601dxq\")\n",
    "\n",
    "## Simple message\n",
    "message = \"Hello Charlie, this is a test message\"\n",
    "\n",
    "## Sending the message\n",
    "s.sendmail(\"dangxiaoqian@gmail.com\", \"dangxiaoqian@gmail.com\", msg)\n",
    "\n",
    "s.quit()"
   ]
  },
  {
   "cell_type": "markdown",
   "metadata": {},
   "source": [
    "### 2. A general email sending template"
   ]
  },
  {
   "cell_type": "code",
   "execution_count": 58,
   "metadata": {},
   "outputs": [],
   "source": [
    "## First, it is a genral email generating class\n",
    "\n",
    "class Text:\n",
    "    \n",
    "    def __init__(self, From, To, Text=None, Attached=None, hasSignature = True):\n",
    "        ## define the variables\n",
    "        if (From == None or not isinstance(From, str)):\n",
    "            raise ValueError(\"Please input the correct sender information\")\n",
    "        self.sender = From\n",
    "        \n",
    "        if (To == None or not isinstance(To, str)):\n",
    "            raise ValueError(\"Please input the correct receiver information\")\n",
    "        self.receiver = To\n",
    "        \n",
    "        ## message information\n",
    "        self.text = Text\n",
    "        \n",
    "        ## Attached file\n",
    "        self.attahced = Attached\n",
    "        \n",
    "        ## signature\n",
    "        if hasSignature == True:\n",
    "            self.signature = \"Charlie Dang, Dr. \\nPhone: 13801186674\"\n",
    "        else:\n",
    "            self.signature = \"\"\n",
    "        \n",
    "    def generateText(self, Title=None):\n",
    "        \"\"\"\n",
    "        This is the function to generate the text message\n",
    "        \"\"\"\n",
    "        message = \"From: %s \\nTo: %s \\n \\n%s\\n\\n\\n%s\" %(self.sender, self.receiver, self.text, self.signature)\n",
    "\n",
    "        return message\n",
    "    \n",
    "    def _setSignature(self, yourSig):\n",
    "        self.signature = yourSig\n",
    "    "
   ]
  },
  {
   "cell_type": "code",
   "execution_count": 62,
   "metadata": {},
   "outputs": [],
   "source": [
    "text = Text(\"dangxiaoqian@gmail.com\",\"a1d@gamil.com\", \"Hello world! \\nThis is Charlie\")"
   ]
  },
  {
   "cell_type": "code",
   "execution_count": 63,
   "metadata": {},
   "outputs": [],
   "source": [
    "msg = text.generateText()"
   ]
  },
  {
   "cell_type": "code",
   "execution_count": 64,
   "metadata": {},
   "outputs": [
    {
     "name": "stdout",
     "output_type": "stream",
     "text": [
      "From: dangxiaoqian@gmail.com \n",
      "To: a1d@gamil.com \n",
      " \n",
      "Hello world! \n",
      "This is Charlie\n",
      "\n",
      "\n",
      "Charlie Dang, Dr. \n",
      "Phone: 13801186674\n"
     ]
    }
   ],
   "source": [
    "print (msg)"
   ]
  },
  {
   "cell_type": "code",
   "execution_count": null,
   "metadata": {
    "collapsed": true
   },
   "outputs": [],
   "source": []
  }
 ],
 "metadata": {
  "kernelspec": {
   "display_name": "Python 3",
   "language": "python",
   "name": "python3"
  },
  "language_info": {
   "codemirror_mode": {
    "name": "ipython",
    "version": 3
   },
   "file_extension": ".py",
   "mimetype": "text/x-python",
   "name": "python",
   "nbconvert_exporter": "python",
   "pygments_lexer": "ipython3",
   "version": "3.6.3"
  }
 },
 "nbformat": 4,
 "nbformat_minor": 2
}
