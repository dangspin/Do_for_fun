{
 "cells": [
  {
   "cell_type": "markdown",
   "metadata": {},
   "source": [
    "### 1. A basic template for sending Email\n",
    "\n",
    "This is from the website: https://www.geeksforgeeks.org/send-mail-gmail-account-using-python/"
   ]
  },
  {
   "cell_type": "code",
   "execution_count": 4,
   "metadata": {},
   "outputs": [
    {
     "data": {
      "text/plain": [
       "(221, b'2.0.0 closing connection y84sm4548972pff.81 - gsmtp')"
      ]
     },
     "execution_count": 4,
     "metadata": {},
     "output_type": "execute_result"
    }
   ],
   "source": [
    "## import smtp module\n",
    "import smtplib\n",
    "\n",
    "## creates SMTP connection\n",
    "s = smtplib.SMTP('smtp.gmail.com', 587)\n",
    "\n",
    "## start TLS for security\n",
    "s.starttls()\n",
    "\n",
    "## Login my gmail:\n",
    "s.login(\"dangxiaoqian@gmail.com\", \"511168020601dxq\")\n",
    "\n",
    "## Simple message\n",
    "message = \"Hello Charlie, this is a test message\"\n",
    "\n",
    "## Sending the message\n",
    "s.sendmail(\"dangxiaoqian@gmail.com\", \"dangxiaoqian@gmail.com\", message)\n",
    "\n",
    "s.quit()"
   ]
  },
  {
   "cell_type": "markdown",
   "metadata": {},
   "source": [
    "### 2. A general email sending template"
   ]
  },
  {
   "cell_type": "code",
   "execution_count": 15,
   "metadata": {},
   "outputs": [],
   "source": [
    "## First, it is a genral email generating class\n",
    "\n",
    "class Text:\n",
    "    \n",
    "    def __init__(self, From, To, text=None, attached=None):\n",
    "        ## define the variables\n",
    "        if (From == None or type(From) == str):\n",
    "            raise ValueError(\"Please input the correct sender information\")\n",
    "        self.sender = From\n",
    "        \n",
    "        if (To == None or type(To) == str):\n",
    "            raise ValueError(\"Please input the correct receiver information\")\n",
    "        self.receiver = To\n",
    "        \n",
    "        ## message information\n",
    "        \n",
    "        \n",
    "    "
   ]
  },
  {
   "cell_type": "code",
   "execution_count": null,
   "metadata": {
    "collapsed": true
   },
   "outputs": [],
   "source": []
  },
  {
   "cell_type": "code",
   "execution_count": null,
   "metadata": {
    "collapsed": true
   },
   "outputs": [],
   "source": []
  },
  {
   "cell_type": "code",
   "execution_count": null,
   "metadata": {
    "collapsed": true
   },
   "outputs": [],
   "source": []
  },
  {
   "cell_type": "code",
   "execution_count": null,
   "metadata": {
    "collapsed": true
   },
   "outputs": [],
   "source": []
  }
 ],
 "metadata": {
  "kernelspec": {
   "display_name": "Python 3",
   "language": "python",
   "name": "python3"
  },
  "language_info": {
   "codemirror_mode": {
    "name": "ipython",
    "version": 3
   },
   "file_extension": ".py",
   "mimetype": "text/x-python",
   "name": "python",
   "nbconvert_exporter": "python",
   "pygments_lexer": "ipython3",
   "version": "3.6.3"
  }
 },
 "nbformat": 4,
 "nbformat_minor": 2
}
