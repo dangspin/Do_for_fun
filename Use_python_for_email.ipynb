{
 "cells": [
  {
   "cell_type": "markdown",
   "metadata": {},
   "source": [
    "### 1. Send email from my Gmail account -- A super easy template\n",
    "\n",
    "\n",
    "This tempate is from the website: https://www.geeksforgeeks.org/send-mail-gmail-account-using-python/"
   ]
  },
  {
   "cell_type": "code",
   "execution_count": 30,
   "metadata": {},
   "outputs": [
    {
     "data": {
      "text/plain": [
       "(221, b'2.0.0 closing connection w4sm36125105pfb.125 - gsmtp')"
      ]
     },
     "execution_count": 30,
     "metadata": {},
     "output_type": "execute_result"
    }
   ],
   "source": [
    "import smtplib\n",
    "\n",
    "## Create a SMTP sesstion\n",
    "s = smtplib.SMTP('smtp.gmail.com', 587)\n",
    "\n",
    "## start TLS\n",
    "s.starttls()\n",
    "\n",
    "## Login my Gmail account\n",
    "s.login(\"dangxiaoqian@gmail.com\", \"511168020601dxq\")\n",
    "\n",
    " \n",
    "# message to be sent\n",
    "message = \"Hello, Charlie!\"\n",
    " \n",
    "# sending the mail\n",
    "s.sendmail(\"dangxiaoqian@gmail.com\", \"dangxiaoqian@gmail.com\", message)\n",
    " \n",
    "# terminating the session\n",
    "s.quit()"
   ]
  },
  {
   "cell_type": "markdown",
   "metadata": {},
   "source": [
    "### 2. Send email from my Gmail account -- A general purpose template"
   ]
  },
  {
   "cell_type": "code",
   "execution_count": null,
   "metadata": {
    "collapsed": true
   },
   "outputs": [],
   "source": []
  },
  {
   "cell_type": "code",
   "execution_count": null,
   "metadata": {
    "collapsed": true
   },
   "outputs": [],
   "source": []
  },
  {
   "cell_type": "code",
   "execution_count": null,
   "metadata": {
    "collapsed": true
   },
   "outputs": [],
   "source": []
  },
  {
   "cell_type": "code",
   "execution_count": null,
   "metadata": {
    "collapsed": true
   },
   "outputs": [],
   "source": []
  }
 ],
 "metadata": {
  "kernelspec": {
   "display_name": "Python 3",
   "language": "python",
   "name": "python3"
  },
  "language_info": {
   "codemirror_mode": {
    "name": "ipython",
    "version": 3
   },
   "file_extension": ".py",
   "mimetype": "text/x-python",
   "name": "python",
   "nbconvert_exporter": "python",
   "pygments_lexer": "ipython3",
   "version": "3.6.3"
  }
 },
 "nbformat": 4,
 "nbformat_minor": 2
}
