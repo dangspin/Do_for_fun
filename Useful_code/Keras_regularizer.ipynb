{
 "cells": [
  {
   "cell_type": "code",
   "execution_count": 45,
   "metadata": {},
   "outputs": [],
   "source": [
    "from tensorflow.keras.models import Model as KerasModel\n",
    "from tensorflow.keras.layers import Input, Dense, Activation, Reshape,Concatenate, Dropout, concatenate\n",
    "from tensorflow.keras.layers import Embedding\n",
    "# from keras.callbacks import ModelCheckpoint\n",
    "from tensorflow.keras.utils import plot_model\n",
    "import numpy as np\n",
    "\n",
    "from tensorflow.keras import backend as K\n",
    "from tensorflow.keras import regularizers as regularizers"
   ]
  },
  {
   "cell_type": "markdown",
   "metadata": {},
   "source": [
    "**User defined regularizer**"
   ]
  },
  {
   "cell_type": "code",
   "execution_count": 134,
   "metadata": {},
   "outputs": [],
   "source": [
    "## User defined regularizer 1, function\n",
    "def l1_reg(weight_matrix):\n",
    "    return 0.01 * K.sum(K.abs(weight_matrix)) \n",
    "\n",
    "## User defined regularizer 2, clousre\n",
    "def l1_reg_alpha(alpha):\n",
    "    def find_l1(weight_matrix):\n",
    "        return alpha*K.sum(K.abs(weight_matrix))\n",
    "    return find_l1\n",
    "\n",
    "\n",
    "## Try decorator 3:\n",
    "def l1_reg_deco(alpha):\n",
    "    def find_l1(func):\n",
    "        def wrapper(*args):\n",
    "            return alpha*func(*args)\n",
    "        return wrapper\n",
    "    return find_l1\n",
    "\n",
    "@l1_reg_deco(0.01)\n",
    "def l12_reg(weight_matrix):\n",
    "    return K.sum(K.abs(weight_matrix))\n",
    "\n",
    "\n",
    "## class 4:\n",
    "class l1_reg_class:\n",
    "    \n",
    "    def __init__(self, alpha):\n",
    "        self.alpha = alpha\n",
    "        \n",
    "    def __call__(self, weight_matrix):\n",
    "        return self.alpha*K.sum(K.abs(weight_matrix))"
   ]
  },
  {
   "cell_type": "code",
   "execution_count": 138,
   "metadata": {},
   "outputs": [],
   "source": [
    "input_layer = Input(shape = (5,))\n",
    "hidden = Dense(10, activation = 'relu', activity_regularizer = l1_reg_class(0.02))(input_layer)\n",
    "output = Dense(1, activation = 'sigmoid')(hidden)\n",
    "model = KerasModel(inputs = input_layer, outputs = output)"
   ]
  },
  {
   "cell_type": "code",
   "execution_count": 141,
   "metadata": {},
   "outputs": [
    {
     "data": {
      "image/png": "[encoded data removed]",
      "text/plain": [
       "<IPython.core.display.Image object>"
      ]
     },
     "execution_count": 141,
     "metadata": {
      "image/png": {
       "height": 147,
       "width": 162
      }
     },
     "output_type": "execute_result"
    }
   ],
   "source": [
    "plot_model(model, show_shapes=True, show_layer_names=True, to_file='test.png')\n",
    "from IPython.display import Image\n",
    "Image(retina=True, filename='test.png')"
   ]
  },
  {
   "cell_type": "code",
   "execution_count": 143,
   "metadata": {},
   "outputs": [],
   "source": [
    "x_train = np.random.normal(0, 1, size=(100, 5))\n",
    "y_train = np.random.randint(2, size=100)"
   ]
  },
  {
   "cell_type": "code",
   "execution_count": 145,
   "metadata": {},
   "outputs": [
    {
     "name": "stdout",
     "output_type": "stream",
     "text": [
      "Train on 100 samples\n",
      "Epoch 1/10\n",
      "100/100 [==============================] - 0s 5ms/sample - loss: 0.8410 - accuracy: 0.4900\n",
      "Epoch 2/10\n",
      "100/100 [==============================] - 0s 31us/sample - loss: 0.8392 - accuracy: 0.4900\n",
      "Epoch 3/10\n",
      "100/100 [==============================] - 0s 29us/sample - loss: 0.8375 - accuracy: 0.4900\n",
      "Epoch 4/10\n",
      "100/100 [==============================] - 0s 30us/sample - loss: 0.8357 - accuracy: 0.4900\n",
      "Epoch 5/10\n",
      "100/100 [==============================] - 0s 32us/sample - loss: 0.8340 - accuracy: 0.4900\n",
      "Epoch 6/10\n",
      "100/100 [==============================] - 0s 39us/sample - loss: 0.8323 - accuracy: 0.4900\n",
      "Epoch 7/10\n",
      "100/100 [==============================] - 0s 41us/sample - loss: 0.8307 - accuracy: 0.4900\n",
      "Epoch 8/10\n",
      "100/100 [==============================] - 0s 37us/sample - loss: 0.8290 - accuracy: 0.4900\n",
      "Epoch 9/10\n",
      "100/100 [==============================] - 0s 27us/sample - loss: 0.8273 - accuracy: 0.4900\n",
      "Epoch 10/10\n",
      "100/100 [==============================] - 0s 32us/sample - loss: 0.8257 - accuracy: 0.4900\n"
     ]
    },
    {
     "data": {
      "text/plain": [
       "<tensorflow.python.keras.callbacks.History at 0x7f245e73bcf8>"
      ]
     },
     "execution_count": 145,
     "metadata": {},
     "output_type": "execute_result"
    }
   ],
   "source": [
    "model.compile(loss='binary_crossentropy', optimizer='adam', metrics=['accuracy'])\n",
    "model.fit(x_train, y_train, epochs=10, batch_size=100, verbose=1)"
   ]
  },
  {
   "cell_type": "code",
   "execution_count": null,
   "metadata": {},
   "outputs": [],
   "source": []
  },
  {
   "cell_type": "code",
   "execution_count": 129,
   "metadata": {},
   "outputs": [
    {
     "name": "stdout",
     "output_type": "stream",
     "text": [
      "1.0\n"
     ]
    }
   ],
   "source": [
    "def time_alpha(alpha):\n",
    "    def functional(func):\n",
    "        def wrapper(*args):\n",
    "            return alpha*func(*args)\n",
    "        return wrapper\n",
    "    return functional\n",
    "\n",
    "@time_alpha(0.01)\n",
    "def f_x(x):\n",
    "    return sum(x)**2\n",
    "\n",
    "a = [1,2,3,4]\n",
    "print(f_x(a))"
   ]
  },
  {
   "cell_type": "code",
   "execution_count": null,
   "metadata": {},
   "outputs": [],
   "source": []
  }
 ],
 "metadata": {
  "kernelspec": {
   "display_name": "Python 3",
   "language": "python",
   "name": "python3"
  },
  "language_info": {
   "codemirror_mode": {
    "name": "ipython",
    "version": 3
   },
   "file_extension": ".py",
   "mimetype": "text/x-python",
   "name": "python",
   "nbconvert_exporter": "python",
   "pygments_lexer": "ipython3",
   "version": "3.5.2"
  }
 },
 "nbformat": 4,
 "nbformat_minor": 2
}
