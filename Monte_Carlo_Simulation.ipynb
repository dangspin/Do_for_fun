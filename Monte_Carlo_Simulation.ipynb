{
 "cells": [
  {
   "cell_type": "markdown",
   "metadata": {},
   "source": [
    "## 1. Simulatin an online merchant\n",
    "\n",
    "This example is from the book: Annotated Algorithms In Python, by Massimo Di Pierro"
   ]
  },
  {
   "cell_type": "markdown",
   "metadata": {},
   "source": [
    "**Question:**\n",
    "\n",
    "A website is visited many times a day. From the logfile of the web application, we determine that the average number of visitors in a day is 976, the number of visitors is Gauusian distributed, and the standard deviation is 352. We also observe that each visitor has a 5% probability of purchasing an item if the item is in stock and a 2% probability to buy an item if the item is not in stock.\n",
    "\n",
    "The merchant sells only one type of itme that costs \\$100 per unit. The merchant maintains N items in stock. The merchant pays \\$30 a day to store each unit item in stock. What is the optimal N to maximize the average daily income of the merchant?"
   ]
  },
  {
   "cell_type": "markdown",
   "metadata": {},
   "source": [
    "**Analysis:**"
   ]
  },
  {
   "cell_type": "code",
   "execution_count": 1,
   "metadata": {
    "collapsed": true
   },
   "outputs": [],
   "source": [
    "import random as rd\n",
    "import numpy as np\n",
    "import matplotlib as plt\n",
    "\n",
    "%matplotlib notebook"
   ]
  },
  {
   "cell_type": "code",
   "execution_count": 9,
   "metadata": {
    "collapsed": false
   },
   "outputs": [
    {
     "name": "stdout",
     "output_type": "stream",
     "text": [
      "2350\n",
      "2500\n",
      "5\n"
     ]
    }
   ],
   "source": [
    "def Simulation_oneday(N):\n",
    "    \"\"\"\n",
    "    This function simulate a possibility for one day. This is of course will be different for each simulation.\n",
    "    \n",
    "    Input: integer, N, the number of item in store at the begining of the day\n",
    "    \n",
    "    Output: netProfit, integer, the total number of profit earned this day\n",
    "    \n",
    "    \"\"\"\n",
    "    \n",
    "    grossProfit = 0\n",
    "    \n",
    "    leftover = N ##number of item that left.\n",
    "    \n",
    "    for num_of_visitor in range(int(rd.gauss(976,352))):\n",
    "        \n",
    "        chance_of_purchase = rd.random()\n",
    "        \n",
    "        if leftover>0:\n",
    "            \n",
    "            if chance_of_purchase<=0.05:\n",
    "                \n",
    "                leftover = leftover-1 ## we sell on item here\n",
    "                \n",
    "                grossProfit = grossProfit+100\n",
    "        else:\n",
    "            if chance_of_purchase<=0.02:\n",
    "                grossProfit = grossProfit+100\n",
    "                \n",
    "    netProfit = grossProfit-30*leftover\n",
    "    \n",
    "    return netProfit,grossProfit,leftover\n",
    "\n",
    "\n",
    "netProfit,grossProfit,leftover = Simulation_oneday(30)\n",
    "\n",
    "print (netProfit)\n",
    "print (grossProfit)\n",
    "print (leftover)\n",
    "        "
   ]
  },
  {
   "cell_type": "code",
   "execution_count": null,
   "metadata": {
    "collapsed": true
   },
   "outputs": [],
   "source": []
  },
  {
   "cell_type": "code",
   "execution_count": null,
   "metadata": {
    "collapsed": true
   },
   "outputs": [],
   "source": []
  }
 ],
 "metadata": {
  "kernelspec": {
   "display_name": "Python 3",
   "language": "python",
   "name": "python3"
  },
  "language_info": {
   "codemirror_mode": {
    "name": "ipython",
    "version": 3
   },
   "file_extension": ".py",
   "mimetype": "text/x-python",
   "name": "python",
   "nbconvert_exporter": "python",
   "pygments_lexer": "ipython3",
   "version": "3.6.0"
  }
 },
 "nbformat": 4,
 "nbformat_minor": 2
}
