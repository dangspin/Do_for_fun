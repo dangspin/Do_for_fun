{
 "cells": [
  {
   "cell_type": "markdown",
   "metadata": {},
   "source": [
    "## 1. Simulatin an online merchant\n",
    "\n",
    "This example is from the book: Annotated Algorithms In Python, by Massimo Di Pierro"
   ]
  },
  {
   "cell_type": "markdown",
   "metadata": {},
   "source": [
    "**Question:**\n",
    "\n",
    "A website is visited many times a day. From the logfile of the web application, we determine that the average number of visitors in a day is 976, the number of visitors is Gauusian distributed, and the standard deviation is 352. We also observe that each visitor has a 5% probability of purchasing an item if the item is in stock and a 2% probability to buy an item if the item is not in stock.\n",
    "\n",
    "The merchant sells only one type of itme that costs \\$100 per unit. The merchant maintains N items in stock. The merchant pays \\$30 a day to store each unit item in stock. What is the optimal N to maximize the average daily income of the merchant?"
   ]
  },
  {
   "cell_type": "markdown",
   "metadata": {},
   "source": [
    "**Analysis:**"
   ]
  },
  {
   "cell_type": "code",
   "execution_count": 2,
   "metadata": {
    "collapsed": true
   },
   "outputs": [],
   "source": [
    "import random as rd\n",
    "import numpy as np\n",
    "import matplotlib as plt\n",
    "\n",
    "%matplotlib notebook"
   ]
  },
  {
   "cell_type": "code",
   "execution_count": 7,
   "metadata": {
    "collapsed": false
   },
   "outputs": [
    {
     "name": "stdout",
     "output_type": "stream",
     "text": [
      "3402.7272727272725\n"
     ]
    }
   ],
   "source": [
    "def Simulation_oneday(N):\n",
    "    \"\"\"\n",
    "    This function simulate a possibility for one day. This is of course will be different for each simulation.\n",
    "    \n",
    "    Input: integer, N, the number of item in store at the begining of the day\n",
    "    \n",
    "    Output: netProfit, integer, the total number of profit earned this day\n",
    "    \n",
    "    \"\"\"\n",
    "    \n",
    "    grossProfit = 0\n",
    "    \n",
    "    leftover = N ##number of item that left.\n",
    "    \n",
    "    for num_of_visitor in range(int(rd.gauss(976,352))):\n",
    "        \n",
    "        chance_of_purchase = rd.random()\n",
    "        \n",
    "        if leftover>0:\n",
    "            \n",
    "            if chance_of_purchase<=0.05:\n",
    "                \n",
    "                leftover = leftover-1 ## we sell on item here\n",
    "                \n",
    "                grossProfit = grossProfit+100\n",
    "        else:\n",
    "            if chance_of_purchase<=0.02:\n",
    "                grossProfit = grossProfit+100\n",
    "                \n",
    "    netProfit = grossProfit-30*leftover\n",
    "    \n",
    "    return netProfit,grossProfit,leftover\n",
    "\n",
    "\n",
    "def simulate_many(n,N,ap=1,rp=0.1):\n",
    "    \"\"\"\n",
    "    This function simulates n times process, which will produce an average value of the \n",
    "    simulated process. The essence of Monte Carlo is that as we increase the number of n,\n",
    "    the mean will converge to a fixed value.\n",
    "    \n",
    "    Input: 1. n: the number of process we need to simulate the process till the converge of \n",
    "                 mean.\n",
    "           2. N: the number of items stored in the shop.\n",
    "           3. ap: the possible limit to test the convergence of the simulation\n",
    "           4. rp: rational to scale of the convergence.\n",
    "           \n",
    "    Output: mean：the mean of the simulation\n",
    "    \"\"\"\n",
    "    \n",
    "    if (n<10):\n",
    "        raise Exception(\"Too few number of simulations.\")\n",
    "    \n",
    "    total = 0.0; mean_previous = 0.0\n",
    "    for simu in range(1,n):\n",
    "        netProfit, grossProfit, leftover = Simulation_oneday(N)\n",
    "        total = total+netProfit\n",
    "        \n",
    "        mean = float(total)/simu\n",
    "        \n",
    "        if (simu>10 and mean-mean_previous<=abs(max(ap,rp*mean))):\n",
    "            return mean\n",
    "        else:\n",
    "            mean_previous = mean\n",
    "        \n",
    "\n",
    "print (simulate_many(20,30))\n",
    "        "
   ]
  },
  {
   "cell_type": "code",
   "execution_count": 16,
   "metadata": {
    "collapsed": false
   },
   "outputs": [
    {
     "name": "stdout",
     "output_type": "stream",
     "text": [
      "The number of if 10, and the simulation result is 2402.7272727272725\n",
      "The number of if 20, and the simulation result is 3097.2727272727275\n",
      "The number of if 30, and the simulation result is 3245.4545454545455\n",
      "The number of if 40, and the simulation result is 4070.0\n",
      "The number of if 50, and the simulation result is 4717.272727272727\n",
      "The number of if 60, and the simulation result is 4824.545454545455\n",
      "The number of if 70, and the simulation result is 3998.181818181818\n",
      "The number of if 80, and the simulation result is 3840.0\n",
      "The number of if 90, and the simulation result is 3894.5454545454545\n",
      "The number of if 100, and the simulation result is 4008.181818181818\n",
      "The number of if 110, and the simulation result is 2514.5454545454545\n",
      "The number of if 120, and the simulation result is 1838.3333333333333\n",
      "The number of if 130, and the simulation result is 1973.6363636363637\n",
      "The number of if 140, and the simulation result is 2512.7272727272725\n",
      "The number of if 150, and the simulation result is 1515.4545454545455\n",
      "The number of if 160, and the simulation result is 1605.4545454545455\n",
      "The number of if 170, and the simulation result is 1140.0\n",
      "The number of if 180, and the simulation result is 471.6666666666667\n",
      "The number of if 190, and the simulation result is 2089.1666666666665\n"
     ]
    }
   ],
   "source": [
    "for num_of_item in range(10,200,10):\n",
    "    print (\"The number of if {}, and the simulation result is {}\".format(num_of_item,simulate_many(200,num_of_item)))"
   ]
  },
  {
   "cell_type": "markdown",
   "metadata": {
    "collapsed": true
   },
   "source": [
    "### Conclusion:\n",
    "\n",
    "The best result happens at when the total number of item stored in the place is 60!"
   ]
  },
  {
   "cell_type": "code",
   "execution_count": null,
   "metadata": {
    "collapsed": true
   },
   "outputs": [],
   "source": []
  }
 ],
 "metadata": {
  "kernelspec": {
   "display_name": "Python 3",
   "language": "python",
   "name": "python3"
  },
  "language_info": {
   "codemirror_mode": {
    "name": "ipython",
    "version": 3
   },
   "file_extension": ".py",
   "mimetype": "text/x-python",
   "name": "python",
   "nbconvert_exporter": "python",
   "pygments_lexer": "ipython3",
   "version": "3.6.0"
  }
 },
 "nbformat": 4,
 "nbformat_minor": 2
}
