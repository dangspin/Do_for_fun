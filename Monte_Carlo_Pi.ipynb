{
 "cells": [
  {
   "cell_type": "markdown",
   "metadata": {},
   "source": [
    "## 1. 蒙特卡洛方法求 $\\pi$"
   ]
  },
  {
   "cell_type": "code",
   "execution_count": 1,
   "metadata": {
    "collapsed": false
   },
   "outputs": [],
   "source": [
    "import random as r\n",
    "import math\n",
    "\n",
    "\n",
    "## Define the distance \n",
    "def edistance(x,y):\n",
    "    \n",
    "    return math.sqrt(x**2+y**2)\n",
    "\n",
    "\n",
    "## Monte Carlo Pi:\n",
    "def monte_carlo(num_of_sample):\n",
    "    ## number of point inside the circle\n",
    "    inside = 0;\n",
    "    \n",
    "    ## randomly pick up points to do the counting\n",
    "    for num in range(num_of_sample):\n",
    "\n",
    "        x=r.random()\n",
    "        y=r.random()\n",
    "\n",
    "        if edistance(x,y) <= 1:\n",
    "            inside = inside + 1\n",
    "\n",
    "    pi = 4*(float(inside)/num_of_sample)\n",
    "    \n",
    "    return pi;\n"
   ]
  },
  {
   "cell_type": "code",
   "execution_count": 15,
   "metadata": {
    "collapsed": false,
    "scrolled": true
   },
   "outputs": [
    {
     "name": "stdout",
     "output_type": "stream",
     "text": [
      "The number of sample point is: 10000: The pi value is 3.1488\n",
      "The number of sample point is: 110000: The pi value is 3.142218181818182\n",
      "The number of sample point is: 210000: The pi value is 3.1371238095238096\n",
      "The number of sample point is: 310000: The pi value is 3.1390838709677418\n",
      "The number of sample point is: 410000: The pi value is 3.1418731707317074\n",
      "The number of sample point is: 510000: The pi value is 3.1413176470588233\n",
      "The number of sample point is: 610000: The pi value is 3.139744262295082\n",
      "The number of sample point is: 710000: The pi value is 3.1416\n",
      "The number of sample point is: 810000: The pi value is 3.143274074074074\n",
      "The number of sample point is: 910000: The pi value is 3.141410989010989\n"
     ]
    }
   ],
   "source": [
    "for sample in range(10000,1000001,100000):\n",
    "    \n",
    "    print (\"The number of sample point is: \"+str(sample)+\": The pi value is \"+str(monte_carlo(sample)))"
   ]
  },
  {
   "cell_type": "markdown",
   "metadata": {
    "collapsed": true
   },
   "source": [
    "## 2. 向量化蒙特卡洛方法"
   ]
  },
  {
   "cell_type": "code",
   "execution_count": 14,
   "metadata": {
    "collapsed": false
   },
   "outputs": [
    {
     "name": "stdout",
     "output_type": "stream",
     "text": [
      "The number of sample point is: 10000: The pi value is 3.1588\n",
      "The number of sample point is: 110000: The pi value is 3.142\n",
      "The number of sample point is: 210000: The pi value is 3.150647619047619\n",
      "The number of sample point is: 310000: The pi value is 3.1448\n",
      "The number of sample point is: 410000: The pi value is 3.1386146341463417\n",
      "The number of sample point is: 510000: The pi value is 3.138494117647059\n",
      "The number of sample point is: 610000: The pi value is 3.141495081967213\n",
      "The number of sample point is: 710000: The pi value is 3.142692957746479\n",
      "The number of sample point is: 810000: The pi value is 3.141204938271605\n",
      "The number of sample point is: 910000: The pi value is 3.1435824175824174\n"
     ]
    }
   ],
   "source": [
    "import random as r\n",
    "import math\n",
    "import numpy as np\n",
    "\n",
    "\n",
    "def np_pi(n):\n",
    "    x = np.random.random(n)\n",
    "    y = np.random.random(n)\n",
    "\n",
    "    return (x*x + y*y <= 1).sum()\n",
    "\n",
    "\n",
    "for sample in range(10000,1000001,100000):\n",
    "    \n",
    "    print (\"The number of sample point is: \"+str(sample)+\": The pi value is \"+str(float(4*np_pi(sample)/sample)))"
   ]
  },
  {
   "cell_type": "code",
   "execution_count": null,
   "metadata": {
    "collapsed": false
   },
   "outputs": [],
   "source": []
  },
  {
   "cell_type": "code",
   "execution_count": null,
   "metadata": {
    "collapsed": false
   },
   "outputs": [],
   "source": []
  },
  {
   "cell_type": "code",
   "execution_count": null,
   "metadata": {
    "collapsed": true
   },
   "outputs": [],
   "source": []
  }
 ],
 "metadata": {
  "kernelspec": {
   "display_name": "Python 3",
   "language": "python",
   "name": "python3"
  },
  "language_info": {
   "codemirror_mode": {
    "name": "ipython",
    "version": 3
   },
   "file_extension": ".py",
   "mimetype": "text/x-python",
   "name": "python",
   "nbconvert_exporter": "python",
   "pygments_lexer": "ipython3",
   "version": "3.6.0"
  }
 },
 "nbformat": 4,
 "nbformat_minor": 2
}
