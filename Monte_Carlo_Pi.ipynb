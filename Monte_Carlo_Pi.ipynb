{
 "cells": [
  {
   "cell_type": "code",
   "execution_count": 18,
   "metadata": {
    "collapsed": false
   },
   "outputs": [
    {
     "name": "stdout",
     "output_type": "stream",
     "text": [
      "3.141564\n"
     ]
    }
   ],
   "source": [
    "import random as r\n",
    "import math\n",
    "\n",
    "\n",
    "## Define the distance \n",
    "def edistance(x,y):\n",
    "    \n",
    "    return math.sqrt(x**2+y**2)\n",
    "\n",
    "\n",
    "## Monte Carlo Pi:\n",
    "\n",
    "inside = 0;\n",
    "Total = 10000000\n",
    "\n",
    "for num in range(Total):\n",
    "    \n",
    "    x=r.random()\n",
    "    y=r.random()\n",
    "    \n",
    "    if edistance(x,y) <= 1:\n",
    "        inside = inside + 1\n",
    "        \n",
    "pi = 4*(float(inside)/Total)\n",
    "\n",
    "print (pi)"
   ]
  },
  {
   "cell_type": "code",
   "execution_count": null,
   "metadata": {
    "collapsed": false
   },
   "outputs": [],
   "source": []
  },
  {
   "cell_type": "code",
   "execution_count": null,
   "metadata": {
    "collapsed": true
   },
   "outputs": [],
   "source": []
  }
 ],
 "metadata": {
  "kernelspec": {
   "display_name": "Python 3",
   "language": "python",
   "name": "python3"
  },
  "language_info": {
   "codemirror_mode": {
    "name": "ipython",
    "version": 3
   },
   "file_extension": ".py",
   "mimetype": "text/x-python",
   "name": "python",
   "nbconvert_exporter": "python",
   "pygments_lexer": "ipython3",
   "version": "3.6.0"
  }
 },
 "nbformat": 4,
 "nbformat_minor": 2
}
