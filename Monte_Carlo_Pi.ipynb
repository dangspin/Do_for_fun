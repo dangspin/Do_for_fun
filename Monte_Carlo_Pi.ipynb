{
 "cells": [
  {
   "cell_type": "markdown",
   "metadata": {},
   "source": [
    "## 1. 蒙特卡洛方法求 $\\pi$"
   ]
  },
  {
   "cell_type": "code",
   "execution_count": 1,
   "metadata": {
    "collapsed": false
   },
   "outputs": [],
   "source": [
    "import random as r\n",
    "import math\n",
    "\n",
    "\n",
    "## Define the distance \n",
    "def edistance(x,y):\n",
    "    \n",
    "    return math.sqrt(x**2+y**2)\n",
    "\n",
    "\n",
    "## Monte Carlo Pi:\n",
    "def monte_carlo(num_of_sample):\n",
    "    ## number of point inside the circle\n",
    "    inside = 0;\n",
    "    \n",
    "    ## randomly pick up points to do the counting\n",
    "    for num in range(num_of_sample):\n",
    "\n",
    "        x=r.random()\n",
    "        y=r.random()\n",
    "\n",
    "        if edistance(x,y) <= 1:\n",
    "            inside = inside + 1\n",
    "\n",
    "    pi = 4*(float(inside)/num_of_sample)\n",
    "    \n",
    "    return pi;\n"
   ]
  },
  {
   "cell_type": "code",
   "execution_count": 6,
   "metadata": {
    "collapsed": false,
    "scrolled": true
   },
   "outputs": [
    {
     "name": "stdout",
     "output_type": "stream",
     "text": [
      "The number of sample point is: 10000: The pi value is 3.15\n",
      "The number of sample point is: 110000: The pi value is 3.1334545454545455\n",
      "The number of sample point is: 210000: The pi value is 3.1419238095238096\n",
      "The number of sample point is: 310000: The pi value is 3.145716129032258\n",
      "The number of sample point is: 410000: The pi value is 3.1428780487804877\n",
      "The number of sample point is: 510000: The pi value is 3.1419450980392156\n",
      "The number of sample point is: 610000: The pi value is 3.1402885245901637\n",
      "The number of sample point is: 710000: The pi value is 3.1432281690140846\n",
      "The number of sample point is: 810000: The pi value is 3.1427703703703704\n",
      "The number of sample point is: 910000: The pi value is 3.1413010989010988\n"
     ]
    }
   ],
   "source": [
    "for sample in range(10000,1000001,100000):\n",
    "    \n",
    "    print (\"The number of sample point is: \"+str(sample)+\": The pi value is \"+str(monte_carlo(sample)))"
   ]
  },
  {
   "cell_type": "code",
   "execution_count": null,
   "metadata": {
    "collapsed": true
   },
   "outputs": [],
   "source": []
  }
 ],
 "metadata": {
  "kernelspec": {
   "display_name": "Python 3",
   "language": "python",
   "name": "python3"
  },
  "language_info": {
   "codemirror_mode": {
    "name": "ipython",
    "version": 3
   },
   "file_extension": ".py",
   "mimetype": "text/x-python",
   "name": "python",
   "nbconvert_exporter": "python",
   "pygments_lexer": "ipython3",
   "version": "3.6.0"
  }
 },
 "nbformat": 4,
 "nbformat_minor": 2
}
